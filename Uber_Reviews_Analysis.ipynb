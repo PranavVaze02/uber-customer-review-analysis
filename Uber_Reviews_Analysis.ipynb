{
 "cells": [
  {
   "cell_type": "code",
   "execution_count": 2,
   "id": "420eee40",
   "metadata": {},
   "outputs": [
    {
     "name": "stdout",
     "output_type": "stream",
     "text": [
      "Defaulting to user installation because normal site-packages is not writeable\n",
      "Requirement already satisfied: pandas in c:\\users\\lenovo\\appdata\\roaming\\python\\python311\\site-packages (2.2.3)\n",
      "Requirement already satisfied: textblob in c:\\users\\lenovo\\appdata\\roaming\\python\\python311\\site-packages (0.18.0.post0)\n",
      "Requirement already satisfied: scikit-learn in c:\\programdata\\anaconda3\\lib\\site-packages (1.3.0)\n",
      "Requirement already satisfied: numpy>=1.23.2 in c:\\users\\lenovo\\appdata\\roaming\\python\\python311\\site-packages (from pandas) (1.26.4)\n",
      "Requirement already satisfied: python-dateutil>=2.8.2 in c:\\users\\lenovo\\appdata\\roaming\\python\\python311\\site-packages (from pandas) (2.8.2)\n",
      "Requirement already satisfied: pytz>=2020.1 in c:\\users\\lenovo\\appdata\\roaming\\python\\python311\\site-packages (from pandas) (2024.1)\n",
      "Requirement already satisfied: tzdata>=2022.7 in c:\\users\\lenovo\\appdata\\roaming\\python\\python311\\site-packages (from pandas) (2024.1)\n",
      "Requirement already satisfied: nltk>=3.8 in c:\\programdata\\anaconda3\\lib\\site-packages (from textblob) (3.8.1)\n",
      "Requirement already satisfied: scipy>=1.5.0 in c:\\programdata\\anaconda3\\lib\\site-packages (from scikit-learn) (1.11.1)\n",
      "Requirement already satisfied: joblib>=1.1.1 in c:\\users\\lenovo\\appdata\\roaming\\python\\python311\\site-packages (from scikit-learn) (1.4.2)\n",
      "Requirement already satisfied: threadpoolctl>=2.0.0 in c:\\programdata\\anaconda3\\lib\\site-packages (from scikit-learn) (2.2.0)\n",
      "Requirement already satisfied: click in c:\\users\\lenovo\\appdata\\roaming\\python\\python311\\site-packages (from nltk>=3.8->textblob) (8.1.7)\n",
      "Requirement already satisfied: regex>=2021.8.3 in c:\\programdata\\anaconda3\\lib\\site-packages (from nltk>=3.8->textblob) (2022.7.9)\n",
      "Requirement already satisfied: tqdm in c:\\programdata\\anaconda3\\lib\\site-packages (from nltk>=3.8->textblob) (4.65.0)\n",
      "Requirement already satisfied: six>=1.5 in c:\\users\\lenovo\\appdata\\roaming\\python\\python311\\site-packages (from python-dateutil>=2.8.2->pandas) (1.16.0)\n",
      "Requirement already satisfied: colorama in c:\\users\\lenovo\\appdata\\roaming\\python\\python311\\site-packages (from click->nltk>=3.8->textblob) (0.4.6)\n"
     ]
    }
   ],
   "source": [
    "!pip install pandas textblob scikit-learn\n",
    "\n",
    "import pandas as pd\n",
    "from textblob import TextBlob\n",
    "from sklearn.model_selection import train_test_split\n",
    "from sklearn.feature_extraction.text import TfidfVectorizer\n",
    "from sklearn.linear_model import LogisticRegression\n",
    "from sklearn.metrics import classification_report\n"
   ]
  },
  {
   "cell_type": "code",
   "execution_count": 14,
   "id": "99d34306",
   "metadata": {},
   "outputs": [
    {
     "data": {
      "text/html": [
       "<div>\n",
       "<style scoped>\n",
       "    .dataframe tbody tr th:only-of-type {\n",
       "        vertical-align: middle;\n",
       "    }\n",
       "\n",
       "    .dataframe tbody tr th {\n",
       "        vertical-align: top;\n",
       "    }\n",
       "\n",
       "    .dataframe thead th {\n",
       "        text-align: right;\n",
       "    }\n",
       "</style>\n",
       "<table border=\"1\" class=\"dataframe\">\n",
       "  <thead>\n",
       "    <tr style=\"text-align: right;\">\n",
       "      <th></th>\n",
       "      <th>userName</th>\n",
       "      <th>userImage</th>\n",
       "      <th>content</th>\n",
       "      <th>score</th>\n",
       "      <th>thumbsUpCount</th>\n",
       "      <th>reviewCreatedVersion</th>\n",
       "      <th>at</th>\n",
       "      <th>replyContent</th>\n",
       "      <th>repliedAt</th>\n",
       "      <th>appVersion</th>\n",
       "    </tr>\n",
       "  </thead>\n",
       "  <tbody>\n",
       "    <tr>\n",
       "      <th>0</th>\n",
       "      <td>User_0</td>\n",
       "      <td>NaN</td>\n",
       "      <td>Good</td>\n",
       "      <td>5</td>\n",
       "      <td>0</td>\n",
       "      <td>4.556.10005</td>\n",
       "      <td>2024-12-18 17:17:19</td>\n",
       "      <td>NaN</td>\n",
       "      <td>NaN</td>\n",
       "      <td>4.556.10005</td>\n",
       "    </tr>\n",
       "    <tr>\n",
       "      <th>1</th>\n",
       "      <td>User_1</td>\n",
       "      <td>NaN</td>\n",
       "      <td>Nice</td>\n",
       "      <td>5</td>\n",
       "      <td>0</td>\n",
       "      <td>4.556.10005</td>\n",
       "      <td>2024-12-18 17:17:17</td>\n",
       "      <td>NaN</td>\n",
       "      <td>NaN</td>\n",
       "      <td>4.556.10005</td>\n",
       "    </tr>\n",
       "    <tr>\n",
       "      <th>2</th>\n",
       "      <td>User_2</td>\n",
       "      <td>NaN</td>\n",
       "      <td>Very convenient</td>\n",
       "      <td>5</td>\n",
       "      <td>0</td>\n",
       "      <td>4.532.10001</td>\n",
       "      <td>2024-12-18 17:09:42</td>\n",
       "      <td>NaN</td>\n",
       "      <td>NaN</td>\n",
       "      <td>4.532.10001</td>\n",
       "    </tr>\n",
       "    <tr>\n",
       "      <th>3</th>\n",
       "      <td>User_3</td>\n",
       "      <td>NaN</td>\n",
       "      <td>Good</td>\n",
       "      <td>4</td>\n",
       "      <td>0</td>\n",
       "      <td>4.556.10005</td>\n",
       "      <td>2024-12-18 17:08:27</td>\n",
       "      <td>NaN</td>\n",
       "      <td>NaN</td>\n",
       "      <td>4.556.10005</td>\n",
       "    </tr>\n",
       "    <tr>\n",
       "      <th>4</th>\n",
       "      <td>User_4</td>\n",
       "      <td>NaN</td>\n",
       "      <td>exllence</td>\n",
       "      <td>5</td>\n",
       "      <td>0</td>\n",
       "      <td>4.556.10005</td>\n",
       "      <td>2024-12-18 17:08:16</td>\n",
       "      <td>NaN</td>\n",
       "      <td>NaN</td>\n",
       "      <td>4.556.10005</td>\n",
       "    </tr>\n",
       "  </tbody>\n",
       "</table>\n",
       "</div>"
      ],
      "text/plain": [
       "  userName  userImage          content  score  thumbsUpCount  \\\n",
       "0   User_0        NaN             Good      5              0   \n",
       "1   User_1        NaN             Nice      5              0   \n",
       "2   User_2        NaN  Very convenient      5              0   \n",
       "3   User_3        NaN             Good      4              0   \n",
       "4   User_4        NaN         exllence      5              0   \n",
       "\n",
       "  reviewCreatedVersion                   at replyContent repliedAt  \\\n",
       "0          4.556.10005  2024-12-18 17:17:19          NaN       NaN   \n",
       "1          4.556.10005  2024-12-18 17:17:17          NaN       NaN   \n",
       "2          4.532.10001  2024-12-18 17:09:42          NaN       NaN   \n",
       "3          4.556.10005  2024-12-18 17:08:27          NaN       NaN   \n",
       "4          4.556.10005  2024-12-18 17:08:16          NaN       NaN   \n",
       "\n",
       "    appVersion  \n",
       "0  4.556.10005  \n",
       "1  4.556.10005  \n",
       "2  4.532.10001  \n",
       "3  4.556.10005  \n",
       "4  4.556.10005  "
      ]
     },
     "execution_count": 14,
     "metadata": {},
     "output_type": "execute_result"
    }
   ],
   "source": [
    "# Load the dataset\n",
    "file_path = 'uber_reviews_without_reviewid.csv'  # Update with your file path\n",
    "df = pd.read_csv(file_path)\n",
    "\n",
    "# Display the first few rows to understand the dataset\n",
    "df.head()\n"
   ]
  },
  {
   "cell_type": "code",
   "execution_count": 4,
   "id": "1db3a894",
   "metadata": {},
   "outputs": [
    {
     "name": "stdout",
     "output_type": "stream",
     "text": [
      "<class 'pandas.core.frame.DataFrame'>\n",
      "RangeIndex: 12000 entries, 0 to 11999\n",
      "Data columns (total 7 columns):\n",
      " #   Column                Non-Null Count  Dtype \n",
      "---  ------                --------------  ----- \n",
      " 0   userName              12000 non-null  object\n",
      " 1   content               12000 non-null  object\n",
      " 2   score                 12000 non-null  int64 \n",
      " 3   thumbsUpCount         12000 non-null  int64 \n",
      " 4   reviewCreatedVersion  10260 non-null  object\n",
      " 5   at                    12000 non-null  object\n",
      " 6   appVersion            10260 non-null  object\n",
      "dtypes: int64(2), object(5)\n",
      "memory usage: 656.4+ KB\n"
     ]
    }
   ],
   "source": [
    "# Drop unnecessary columns\n",
    "columns_to_drop = [\"userImage\", \"replyContent\", \"repliedAt\"]\n",
    "df = df.drop(columns=columns_to_drop)\n",
    "\n",
    "# Display dataset info\n",
    "df.info()\n"
   ]
  },
  {
   "cell_type": "code",
   "execution_count": 15,
   "id": "0c0700a2",
   "metadata": {},
   "outputs": [
    {
     "data": {
      "text/html": [
       "<div>\n",
       "<style scoped>\n",
       "    .dataframe tbody tr th:only-of-type {\n",
       "        vertical-align: middle;\n",
       "    }\n",
       "\n",
       "    .dataframe tbody tr th {\n",
       "        vertical-align: top;\n",
       "    }\n",
       "\n",
       "    .dataframe thead th {\n",
       "        text-align: right;\n",
       "    }\n",
       "</style>\n",
       "<table border=\"1\" class=\"dataframe\">\n",
       "  <thead>\n",
       "    <tr style=\"text-align: right;\">\n",
       "      <th></th>\n",
       "      <th>userImage</th>\n",
       "      <th>score</th>\n",
       "      <th>thumbsUpCount</th>\n",
       "    </tr>\n",
       "  </thead>\n",
       "  <tbody>\n",
       "    <tr>\n",
       "      <th>count</th>\n",
       "      <td>0.0</td>\n",
       "      <td>12000.000000</td>\n",
       "      <td>12000.000000</td>\n",
       "    </tr>\n",
       "    <tr>\n",
       "      <th>mean</th>\n",
       "      <td>NaN</td>\n",
       "      <td>3.925417</td>\n",
       "      <td>0.517000</td>\n",
       "    </tr>\n",
       "    <tr>\n",
       "      <th>std</th>\n",
       "      <td>NaN</td>\n",
       "      <td>1.658940</td>\n",
       "      <td>6.298268</td>\n",
       "    </tr>\n",
       "    <tr>\n",
       "      <th>min</th>\n",
       "      <td>NaN</td>\n",
       "      <td>1.000000</td>\n",
       "      <td>0.000000</td>\n",
       "    </tr>\n",
       "    <tr>\n",
       "      <th>25%</th>\n",
       "      <td>NaN</td>\n",
       "      <td>3.000000</td>\n",
       "      <td>0.000000</td>\n",
       "    </tr>\n",
       "    <tr>\n",
       "      <th>50%</th>\n",
       "      <td>NaN</td>\n",
       "      <td>5.000000</td>\n",
       "      <td>0.000000</td>\n",
       "    </tr>\n",
       "    <tr>\n",
       "      <th>75%</th>\n",
       "      <td>NaN</td>\n",
       "      <td>5.000000</td>\n",
       "      <td>0.000000</td>\n",
       "    </tr>\n",
       "    <tr>\n",
       "      <th>max</th>\n",
       "      <td>NaN</td>\n",
       "      <td>5.000000</td>\n",
       "      <td>239.000000</td>\n",
       "    </tr>\n",
       "  </tbody>\n",
       "</table>\n",
       "</div>"
      ],
      "text/plain": [
       "       userImage         score  thumbsUpCount\n",
       "count        0.0  12000.000000   12000.000000\n",
       "mean         NaN      3.925417       0.517000\n",
       "std          NaN      1.658940       6.298268\n",
       "min          NaN      1.000000       0.000000\n",
       "25%          NaN      3.000000       0.000000\n",
       "50%          NaN      5.000000       0.000000\n",
       "75%          NaN      5.000000       0.000000\n",
       "max          NaN      5.000000     239.000000"
      ]
     },
     "execution_count": 15,
     "metadata": {},
     "output_type": "execute_result"
    }
   ],
   "source": [
    "df.describe()"
   ]
  },
  {
   "cell_type": "code",
   "execution_count": 8,
   "id": "0b20aaa6",
   "metadata": {},
   "outputs": [
    {
     "data": {
      "text/html": [
       "<div>\n",
       "<style scoped>\n",
       "    .dataframe tbody tr th:only-of-type {\n",
       "        vertical-align: middle;\n",
       "    }\n",
       "\n",
       "    .dataframe tbody tr th {\n",
       "        vertical-align: top;\n",
       "    }\n",
       "\n",
       "    .dataframe thead th {\n",
       "        text-align: right;\n",
       "    }\n",
       "</style>\n",
       "<table border=\"1\" class=\"dataframe\">\n",
       "  <thead>\n",
       "    <tr style=\"text-align: right;\">\n",
       "      <th></th>\n",
       "      <th>userName</th>\n",
       "      <th>content</th>\n",
       "      <th>score</th>\n",
       "      <th>thumbsUpCount</th>\n",
       "      <th>reviewCreatedVersion</th>\n",
       "      <th>at</th>\n",
       "      <th>appVersion</th>\n",
       "      <th>sentiment_polarity</th>\n",
       "      <th>sentiment_category</th>\n",
       "    </tr>\n",
       "  </thead>\n",
       "  <tbody>\n",
       "    <tr>\n",
       "      <th>11995</th>\n",
       "      <td>User_11995</td>\n",
       "      <td>Excellent!!!</td>\n",
       "      <td>5</td>\n",
       "      <td>0</td>\n",
       "      <td>4.553.10000</td>\n",
       "      <td>2024-11-24 21:59:16</td>\n",
       "      <td>4.553.10000</td>\n",
       "      <td>1.000000</td>\n",
       "      <td>positive</td>\n",
       "    </tr>\n",
       "    <tr>\n",
       "      <th>11996</th>\n",
       "      <td>User_11996</td>\n",
       "      <td>Worst experience after 10pm in Hyde cityno aut...</td>\n",
       "      <td>5</td>\n",
       "      <td>0</td>\n",
       "      <td>4.552.10000</td>\n",
       "      <td>2024-11-24 21:56:10</td>\n",
       "      <td>4.552.10000</td>\n",
       "      <td>-1.000000</td>\n",
       "      <td>negative</td>\n",
       "    </tr>\n",
       "    <tr>\n",
       "      <th>11997</th>\n",
       "      <td>User_11997</td>\n",
       "      <td>Exceptional</td>\n",
       "      <td>5</td>\n",
       "      <td>0</td>\n",
       "      <td>4.552.10000</td>\n",
       "      <td>2024-11-24 21:52:21</td>\n",
       "      <td>4.552.10000</td>\n",
       "      <td>0.666667</td>\n",
       "      <td>positive</td>\n",
       "    </tr>\n",
       "    <tr>\n",
       "      <th>11998</th>\n",
       "      <td>User_11998</td>\n",
       "      <td>Good Service.</td>\n",
       "      <td>5</td>\n",
       "      <td>0</td>\n",
       "      <td>4.553.10000</td>\n",
       "      <td>2024-11-24 21:50:30</td>\n",
       "      <td>4.553.10000</td>\n",
       "      <td>0.700000</td>\n",
       "      <td>positive</td>\n",
       "    </tr>\n",
       "    <tr>\n",
       "      <th>11999</th>\n",
       "      <td>User_11999</td>\n",
       "      <td>Very bad experience with this app, booked a sh...</td>\n",
       "      <td>1</td>\n",
       "      <td>0</td>\n",
       "      <td>NaN</td>\n",
       "      <td>2024-11-24 21:44:44</td>\n",
       "      <td>NaN</td>\n",
       "      <td>-0.302500</td>\n",
       "      <td>negative</td>\n",
       "    </tr>\n",
       "  </tbody>\n",
       "</table>\n",
       "</div>"
      ],
      "text/plain": [
       "         userName                                            content  score  \\\n",
       "11995  User_11995                                       Excellent!!!      5   \n",
       "11996  User_11996  Worst experience after 10pm in Hyde cityno aut...      5   \n",
       "11997  User_11997                                        Exceptional      5   \n",
       "11998  User_11998                                      Good Service.      5   \n",
       "11999  User_11999  Very bad experience with this app, booked a sh...      1   \n",
       "\n",
       "       thumbsUpCount reviewCreatedVersion                   at   appVersion  \\\n",
       "11995              0          4.553.10000  2024-11-24 21:59:16  4.553.10000   \n",
       "11996              0          4.552.10000  2024-11-24 21:56:10  4.552.10000   \n",
       "11997              0          4.552.10000  2024-11-24 21:52:21  4.552.10000   \n",
       "11998              0          4.553.10000  2024-11-24 21:50:30  4.553.10000   \n",
       "11999              0                  NaN  2024-11-24 21:44:44          NaN   \n",
       "\n",
       "       sentiment_polarity sentiment_category  \n",
       "11995            1.000000           positive  \n",
       "11996           -1.000000           negative  \n",
       "11997            0.666667           positive  \n",
       "11998            0.700000           positive  \n",
       "11999           -0.302500           negative  "
      ]
     },
     "execution_count": 8,
     "metadata": {},
     "output_type": "execute_result"
    }
   ],
   "source": [
    "# Add sentiment polarity (from TextBlob)\n",
    "df['sentiment_polarity'] = df['content'].apply(lambda x: TextBlob(x).sentiment.polarity)\n",
    "\n",
    "# Map polarity to categories\n",
    "def map_sentiment(polarity):\n",
    "    if polarity > 0.2:\n",
    "        return 'positive'\n",
    "    elif polarity < -0.2:\n",
    "        return 'negative'\n",
    "    else:\n",
    "        return 'neutral'\n",
    "\n",
    "df['sentiment_category'] = df['sentiment_polarity'].apply(map_sentiment)\n",
    "\n",
    "# Display the updated dataframe\n",
    "df.tail()\n"
   ]
  },
  {
   "cell_type": "code",
   "execution_count": 9,
   "id": "32af1e6c",
   "metadata": {},
   "outputs": [
    {
     "data": {
      "text/plain": [
       "((9600,), (2400,))"
      ]
     },
     "execution_count": 9,
     "metadata": {},
     "output_type": "execute_result"
    }
   ],
   "source": [
    "# Features and labels\n",
    "X = df['content']\n",
    "y = df['sentiment_category']\n",
    "\n",
    "# Split the data into training and testing sets\n",
    "X_train, X_test, y_train, y_test = train_test_split(X, y, test_size=0.2, random_state=42)\n",
    "\n",
    "# Display data shapes\n",
    "X_train.shape, X_test.shape\n"
   ]
  },
  {
   "cell_type": "code",
   "execution_count": 10,
   "id": "37515c84",
   "metadata": {},
   "outputs": [],
   "source": [
    "# Convert text to numerical features using TF-IDF\n",
    "vectorizer = TfidfVectorizer(max_features=5000)\n",
    "X_train_tfidf = vectorizer.fit_transform(X_train)\n",
    "X_test_tfidf = vectorizer.transform(X_test)\n"
   ]
  },
  {
   "cell_type": "code",
   "execution_count": 11,
   "id": "9f66cb2b",
   "metadata": {},
   "outputs": [
    {
     "name": "stdout",
     "output_type": "stream",
     "text": [
      "Classification Report:\n",
      "               precision    recall  f1-score   support\n",
      "\n",
      "    negative       0.86      0.54      0.66       194\n",
      "     neutral       0.79      0.91      0.85       687\n",
      "    positive       0.96      0.95      0.96      1519\n",
      "\n",
      "    accuracy                           0.90      2400\n",
      "   macro avg       0.87      0.80      0.82      2400\n",
      "weighted avg       0.91      0.90      0.90      2400\n",
      "\n"
     ]
    }
   ],
   "source": [
    "# Train Logistic Regression Model\n",
    "model = LogisticRegression(max_iter=1000, random_state=42)\n",
    "model.fit(X_train_tfidf, y_train)\n",
    "\n",
    "# Evaluate the model\n",
    "y_pred = model.predict(X_test_tfidf)\n",
    "print(\"Classification Report:\\n\", classification_report(y_test, y_pred))\n"
   ]
  },
  {
   "cell_type": "code",
   "execution_count": 12,
   "id": "b07d56f1",
   "metadata": {},
   "outputs": [
    {
     "data": {
      "text/html": [
       "<div>\n",
       "<style scoped>\n",
       "    .dataframe tbody tr th:only-of-type {\n",
       "        vertical-align: middle;\n",
       "    }\n",
       "\n",
       "    .dataframe tbody tr th {\n",
       "        vertical-align: top;\n",
       "    }\n",
       "\n",
       "    .dataframe thead th {\n",
       "        text-align: right;\n",
       "    }\n",
       "</style>\n",
       "<table border=\"1\" class=\"dataframe\">\n",
       "  <thead>\n",
       "    <tr style=\"text-align: right;\">\n",
       "      <th></th>\n",
       "      <th>userName</th>\n",
       "      <th>content</th>\n",
       "      <th>score</th>\n",
       "      <th>thumbsUpCount</th>\n",
       "      <th>reviewCreatedVersion</th>\n",
       "      <th>at</th>\n",
       "      <th>appVersion</th>\n",
       "      <th>sentiment_polarity</th>\n",
       "      <th>sentiment_category</th>\n",
       "      <th>predicted_sentiment</th>\n",
       "    </tr>\n",
       "  </thead>\n",
       "  <tbody>\n",
       "    <tr>\n",
       "      <th>0</th>\n",
       "      <td>User_0</td>\n",
       "      <td>Good</td>\n",
       "      <td>5</td>\n",
       "      <td>0</td>\n",
       "      <td>4.556.10005</td>\n",
       "      <td>2024-12-18 17:17:19</td>\n",
       "      <td>4.556.10005</td>\n",
       "      <td>0.7</td>\n",
       "      <td>positive</td>\n",
       "      <td>positive</td>\n",
       "    </tr>\n",
       "    <tr>\n",
       "      <th>1</th>\n",
       "      <td>User_1</td>\n",
       "      <td>Nice</td>\n",
       "      <td>5</td>\n",
       "      <td>0</td>\n",
       "      <td>4.556.10005</td>\n",
       "      <td>2024-12-18 17:17:17</td>\n",
       "      <td>4.556.10005</td>\n",
       "      <td>0.6</td>\n",
       "      <td>positive</td>\n",
       "      <td>positive</td>\n",
       "    </tr>\n",
       "    <tr>\n",
       "      <th>2</th>\n",
       "      <td>User_2</td>\n",
       "      <td>Very convenient</td>\n",
       "      <td>5</td>\n",
       "      <td>0</td>\n",
       "      <td>4.532.10001</td>\n",
       "      <td>2024-12-18 17:09:42</td>\n",
       "      <td>4.532.10001</td>\n",
       "      <td>0.2</td>\n",
       "      <td>neutral</td>\n",
       "      <td>neutral</td>\n",
       "    </tr>\n",
       "    <tr>\n",
       "      <th>3</th>\n",
       "      <td>User_3</td>\n",
       "      <td>Good</td>\n",
       "      <td>4</td>\n",
       "      <td>0</td>\n",
       "      <td>4.556.10005</td>\n",
       "      <td>2024-12-18 17:08:27</td>\n",
       "      <td>4.556.10005</td>\n",
       "      <td>0.7</td>\n",
       "      <td>positive</td>\n",
       "      <td>positive</td>\n",
       "    </tr>\n",
       "    <tr>\n",
       "      <th>4</th>\n",
       "      <td>User_4</td>\n",
       "      <td>exllence</td>\n",
       "      <td>5</td>\n",
       "      <td>0</td>\n",
       "      <td>4.556.10005</td>\n",
       "      <td>2024-12-18 17:08:16</td>\n",
       "      <td>4.556.10005</td>\n",
       "      <td>0.0</td>\n",
       "      <td>neutral</td>\n",
       "      <td>neutral</td>\n",
       "    </tr>\n",
       "  </tbody>\n",
       "</table>\n",
       "</div>"
      ],
      "text/plain": [
       "  userName          content  score  thumbsUpCount reviewCreatedVersion  \\\n",
       "0   User_0             Good      5              0          4.556.10005   \n",
       "1   User_1             Nice      5              0          4.556.10005   \n",
       "2   User_2  Very convenient      5              0          4.532.10001   \n",
       "3   User_3             Good      4              0          4.556.10005   \n",
       "4   User_4         exllence      5              0          4.556.10005   \n",
       "\n",
       "                    at   appVersion  sentiment_polarity sentiment_category  \\\n",
       "0  2024-12-18 17:17:19  4.556.10005                 0.7           positive   \n",
       "1  2024-12-18 17:17:17  4.556.10005                 0.6           positive   \n",
       "2  2024-12-18 17:09:42  4.532.10001                 0.2            neutral   \n",
       "3  2024-12-18 17:08:27  4.556.10005                 0.7           positive   \n",
       "4  2024-12-18 17:08:16  4.556.10005                 0.0            neutral   \n",
       "\n",
       "  predicted_sentiment  \n",
       "0            positive  \n",
       "1            positive  \n",
       "2             neutral  \n",
       "3            positive  \n",
       "4             neutral  "
      ]
     },
     "execution_count": 12,
     "metadata": {},
     "output_type": "execute_result"
    }
   ],
   "source": [
    "# Add predictions to the dataset\n",
    "df['predicted_sentiment'] = model.predict(vectorizer.transform(df['content']))\n",
    "\n",
    "# Display updated dataframe\n",
    "df.head()\n"
   ]
  },
  {
   "cell_type": "code",
   "execution_count": 19,
   "id": "fe752ccc",
   "metadata": {},
   "outputs": [
    {
     "name": "stdout",
     "output_type": "stream",
     "text": [
      "Index(['userName', 'userImage', 'content', 'score', 'thumbsUpCount',\n",
      "       'reviewCreatedVersion', 'at', 'replyContent', 'repliedAt',\n",
      "       'appVersion'],\n",
      "      dtype='object')\n"
     ]
    }
   ],
   "source": [
    "print(df.columns)\n"
   ]
  },
  {
   "cell_type": "code",
   "execution_count": 21,
   "id": "18ae50f2",
   "metadata": {},
   "outputs": [],
   "source": [
    "from textblob import TextBlob\n",
    "\n",
    "# Calculate sentiment polarity\n",
    "df['sentiment_polarity'] = df['content'].apply(lambda text: TextBlob(str(text)).sentiment.polarity)\n"
   ]
  },
  {
   "cell_type": "code",
   "execution_count": 22,
   "id": "4e14d405",
   "metadata": {},
   "outputs": [],
   "source": [
    "df['sentiment_category'] = df['sentiment_polarity'].apply(\n",
    "    lambda polarity: 'positive' if polarity > 0.2 else 'negative' if polarity < -0.2 else 'neutral'\n",
    ")\n"
   ]
  },
  {
   "cell_type": "code",
   "execution_count": 23,
   "id": "b81dbb7f",
   "metadata": {},
   "outputs": [
    {
     "name": "stdout",
     "output_type": "stream",
     "text": [
      "  userName  userImage          content  score  thumbsUpCount  \\\n",
      "0   User_0        NaN             Good      5              0   \n",
      "1   User_1        NaN             Nice      5              0   \n",
      "2   User_2        NaN  Very convenient      5              0   \n",
      "3   User_3        NaN             Good      4              0   \n",
      "4   User_4        NaN         exllence      5              0   \n",
      "\n",
      "  reviewCreatedVersion                   at replyContent repliedAt  \\\n",
      "0          4.556.10005  2024-12-18 17:17:19          NaN       NaN   \n",
      "1          4.556.10005  2024-12-18 17:17:17          NaN       NaN   \n",
      "2          4.532.10001  2024-12-18 17:09:42          NaN       NaN   \n",
      "3          4.556.10005  2024-12-18 17:08:27          NaN       NaN   \n",
      "4          4.556.10005  2024-12-18 17:08:16          NaN       NaN   \n",
      "\n",
      "    appVersion  sentiment_polarity sentiment_category  \n",
      "0  4.556.10005                 0.7           positive  \n",
      "1  4.556.10005                 0.6           positive  \n",
      "2  4.532.10001                 0.2            neutral  \n",
      "3  4.556.10005                 0.7           positive  \n",
      "4  4.556.10005                 0.0            neutral  \n"
     ]
    }
   ],
   "source": [
    "print(df.head())\n"
   ]
  },
  {
   "cell_type": "code",
   "execution_count": 24,
   "id": "53fef7f7",
   "metadata": {},
   "outputs": [
    {
     "data": {
      "image/png": "[encoded data removed]",
      "text/plain": [
       "<Figure size 800x600 with 1 Axes>"
      ]
     },
     "metadata": {},
     "output_type": "display_data"
    }
   ],
   "source": [
    "import matplotlib.pyplot as plt\n",
    "import seaborn as sns\n",
    "\n",
    "# Count plot for sentiment categories\n",
    "plt.figure(figsize=(8, 6))\n",
    "sns.countplot(x='sentiment_category', data=df, palette='viridis')\n",
    "plt.title('Distribution of Sentiments', fontsize=16)\n",
    "plt.xlabel('Sentiment Category', fontsize=12)\n",
    "plt.ylabel('Count', fontsize=12)\n",
    "plt.show()\n"
   ]
  },
  {
   "cell_type": "code",
   "execution_count": 25,
   "id": "572220a9",
   "metadata": {},
   "outputs": [
    {
     "name": "stderr",
     "output_type": "stream",
     "text": [
      "C:\\ProgramData\\anaconda3\\Lib\\site-packages\\seaborn\\_oldcore.py:1119: FutureWarning: use_inf_as_na option is deprecated and will be removed in a future version. Convert inf values to NaN before operating instead.\n",
      "  with pd.option_context('mode.use_inf_as_na', True):\n"
     ]
    },
    {
     "data": {
      "image/png": "[encoded data removed]",
      "text/plain": [
       "<Figure size 1000x600 with 1 Axes>"
      ]
     },
     "metadata": {},
     "output_type": "display_data"
    }
   ],
   "source": [
    "# Histogram for sentiment polarity\n",
    "plt.figure(figsize=(10, 6))\n",
    "sns.histplot(df['sentiment_polarity'], bins=20, kde=True, color='blue')\n",
    "plt.title('Sentiment Polarity Distribution', fontsize=16)\n",
    "plt.xlabel('Polarity', fontsize=12)\n",
    "plt.ylabel('Frequency', fontsize=12)\n",
    "plt.axvline(0, color='red', linestyle='--', label='Neutral Boundary')\n",
    "plt.legend()\n",
    "plt.show()\n"
   ]
  },
  {
   "cell_type": "code",
   "execution_count": 27,
   "id": "e6ad140a",
   "metadata": {},
   "outputs": [
    {
     "name": "stdout",
     "output_type": "stream",
     "text": [
      "Processed dataset with predictions saved to: uber_reviews_with_predictions.csv\n"
     ]
    }
   ],
   "source": [
    "# Save the updated dataset to a CSV\n",
    "output_path = 'uber_reviews_with_predictions.csv'  # Update the output file path if needed\n",
    "df.to_csv(output_path, index=False)\n",
    "\n",
    "print(f\"Processed dataset with predictions saved to: {output_path}\")\n"
   ]
  },
  {
   "cell_type": "code",
   "execution_count": null,
   "id": "79f79c97",
   "metadata": {},
   "outputs": [],
   "source": []
  }
 ],
 "metadata": {
  "kernelspec": {
   "display_name": "Python 3 (ipykernel)",
   "language": "python",
   "name": "python3"
  },
  "language_info": {
   "codemirror_mode": {
    "name": "ipython",
    "version": 3
   },
   "file_extension": ".py",
   "mimetype": "text/x-python",
   "name": "python",
   "nbconvert_exporter": "python",
   "pygments_lexer": "ipython3",
   "version": "3.11.5"
  }
 },
 "nbformat": 4,
 "nbformat_minor": 5
}
